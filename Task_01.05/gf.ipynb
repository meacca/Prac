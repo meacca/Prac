{
 "cells": [
  {
   "cell_type": "code",
   "execution_count": 106,
   "metadata": {
    "collapsed": true
   },
   "outputs": [],
   "source": [
    "import numpy as np\n",
    "\n",
    "\n",
    "def gen_pow_matrix(primpoly):\n",
    "    deg = len(bin(primpoly)) - 3\n",
    "    max_dec = 2 ** deg\n",
    "    solve_poly = primpoly % max_dec\n",
    "    degs = np.zeros(max_dec - 1, dtype=int)\n",
    "    cur_poly = 2   # cur_poly = x\n",
    "    degs[0] = cur_poly\n",
    "    for i in range(1, max_dec - 1):\n",
    "        res = cur_poly * 2  # mul on x == shift left on 1 bit\n",
    "        if res >= max_dec:\n",
    "            res = res % max_dec\n",
    "            res = res ^ solve_poly\n",
    "        cur_poly = res\n",
    "        degs[i] = cur_poly\n",
    "    pos, values = np.unique(degs, return_index=True)\n",
    "    matrix = np.zeros((max_dec - 1, 2), dtype=int)\n",
    "    matrix[pos - 1, 0] = values + 1\n",
    "    matrix[:, 1] = degs\n",
    "    return matrix\n",
    "\n",
    "\n",
    "def add(X, Y):\n",
    "    return X ^ Y\n",
    "\n",
    "\n",
    "def sum(X, axis=0):\n",
    "    return np.bitwise_xor.reduce(X, axis=axis)\n",
    "\n",
    "\n",
    "def prod(X, Y, pm):\n",
    "    def prod_one(x, y):\n",
    "        if x == 0 or y == 0:\n",
    "            return 0\n",
    "        x_pow = pm[x - 1, 0]\n",
    "        y_pow = pm[y - 1, 0]\n",
    "        res = (x_pow + y_pow) % pm.shape[0]\n",
    "        return pm[res - 1, 1]\n",
    "    return np.vectorize(prod_one)(X, Y)\n",
    "\n",
    "\n",
    "def divide(X, Y, pm):\n",
    "    def divide_one(x, y):\n",
    "        assert y != 0\n",
    "        if x == 0:\n",
    "            return 0\n",
    "        x_pow = pm[x - 1, 0]\n",
    "        y_pow = pm[y - 1, 0]\n",
    "        res = (x_pow - y_pow) % pm.shape[0]\n",
    "        return pm[res - 1, 1]\n",
    "    return np.vectorize(divide_one)(X, Y)\n",
    "\n",
    "def linsolve(A, b, pm):\n",
    "    matrix = np.hstack((A, b[:, np.newaxis]))\n",
    "    for i in range(A.shape[0] - 1):\n",
    "        matrix_part = matrix[i:, i:]\n",
    "        if (np.all(matrix_part[:, 0] == 0)):\n",
    "            return np.nan\n",
    "        if matrix_part[0, 0] == 0:\n",
    "            non_zero = np.where(matrix_part[:, 0] != 0)[0][0]\n",
    "            matrix_part[0], matrix_part[non_zero] = matrix_part[non_zero], matrix_part[0].copy()\n",
    "        arr1 = matrix_part[0][np.newaxis, :]\n",
    "        arr2 = matrix_part[1:, 0][:, np.newaxis]\n",
    "        mul = prod(arr1, divide(arr2, matrix_part[0][0], pm), pm)\n",
    "        matrix_part[1:] = add(matrix_part[1:], mul)\n",
    "    if matrix[-1, -2] == 0:\n",
    "        return np.nan\n",
    "    res = np.zeros(A.shape[0], dtype=np.int64)\n",
    "    for i in range(A.shape[0], 0, -1):\n",
    "        matrix_part = matrix[:i, :i + 1]\n",
    "        numer = matrix_part[-1, -1]\n",
    "        denom = matrix_part[-1, -2]\n",
    "        root = divide(numer, denom, pm)\n",
    "        res[i - 1] = root\n",
    "        matrix_part[:, -2] = add(matrix_part[:, -1], prod(matrix_part[:, -2],\n",
    "                                root, pm))\n",
    "    return res\n",
    "\n",
    "def minpoly(x, pm):\n",
    "    roots = set()\n",
    "    for elem in x:\n",
    "        #if deg == -1:\n",
    "        #    continue\n",
    "        #if deg in roots:\n",
    "        #    continue\n",
    "        cycle = set()\n",
    "        cycle.add(elem)\n",
    "        new = int(prod(elem, elem, pm))\n",
    "        #tmp = (deg * 2) % pm.shape[0]\n",
    "        while new not in cycle:\n",
    "            cycle.add(new)\n",
    "            new = int(prod(new, new, pm))\n",
    "        roots.update(cycle)\n",
    "    roots = np.array(list(roots))\n",
    "    roots = np.sort(roots)\n",
    "    res = np.array([1, roots[0]])\n",
    "    for i, root in enumerate(roots[1:]):\n",
    "        res = polyprod(res, np.array([1, root]), pm)\n",
    "    return res, roots\n",
    "\n",
    "def polyval(p, x, pm):\n",
    "    res = np.zeros_like(x)\n",
    "    cur = 1\n",
    "    for i, koef in enumerate(list(p)[::-1]):\n",
    "        value = prod(cur, koef, pm)\n",
    "        res = res ^ value\n",
    "        cur = prod(cur, x, pm)\n",
    "    return res\n",
    "\n",
    "def normalize_poly(p):\n",
    "    for i in range(p.shape[0]):\n",
    "        if p[i] != 0:\n",
    "            break\n",
    "    return p[i:]\n",
    "\n",
    "def polyprod(p1, p2, pm):\n",
    "    p1_pow = pm[p1 - 1, 0]\n",
    "    p2_pow = pm[p2 - 1, 0]\n",
    "    res = np.zeros(p1.shape[0] + p2.shape[0] - 1, dtype=np.int64)\n",
    "    for i1, pow1 in enumerate(p1_pow[::-1]):\n",
    "        for i2, pow2 in enumerate(p2_pow[::-1]):\n",
    "            if p1[::-1][i1] == 0 or p2[::-1][i2] == 0:\n",
    "                continue\n",
    "            res_pow = (pow1 + pow2) % pm.shape[0]\n",
    "            res[i1 + i2] = res[i1 + i2] ^ pm[:, 1][res_pow - 1]             \n",
    "    return normalize_poly(res[::-1])\n",
    "\n",
    "def polydivmod(p1, p2, pm):\n",
    "    p1 = normalize_poly(p1)\n",
    "    p2 = normalize_poly(p2)\n",
    "    max_deg = p2.shape[0] - 1\n",
    "    cur_poly = p1\n",
    "    cur_deg = p1.shape[0] - 1\n",
    "    if cur_deg < max_deg:\n",
    "        return np.array([0]), p1\n",
    "    res = np.zeros(cur_deg - max_deg + 1, dtype = np.int64)\n",
    "    while cur_deg >= max_deg:\n",
    "        koef = int(divide(cur_poly[0], p2[0], pm))\n",
    "        res[cur_deg - max_deg] = koef\n",
    "        tmp_poly = np.zeros(cur_deg - max_deg + 1, dtype = np.int64)\n",
    "        tmp_poly[0] = koef\n",
    "        tmp_poly = polyprod(tmp_poly, p2, pm)\n",
    "        cur_poly = cur_poly ^ tmp_poly\n",
    "        flag = True\n",
    "        for i in range(cur_poly.shape[0]):\n",
    "            if cur_poly[i] != 0:\n",
    "                index = i\n",
    "                flag = False\n",
    "                break\n",
    "        if flag:\n",
    "            break\n",
    "        cur_poly = cur_poly[index:]\n",
    "        cur_deg = cur_poly.shape[0] - 1\n",
    "    return normalize_poly(res[::-1]), normalize_poly(cur_poly)\n",
    "\n",
    "def polyadd(p1, p2):\n",
    "    if len(p1) > len(p2):\n",
    "        p1, p2 = p2, p1.copy()\n",
    "    p1 = np.concatenate([np.zeros(len(p2) - len(p1), dtype=np.int64), p1])\n",
    "    res = p1 ^ p2\n",
    "    return normalize_poly(res)\n",
    "\n",
    "def euclid(p1, p2, pm, max_deg=0):\n",
    "    p1_deg = p1.shape[0] - 1\n",
    "    p2_deg = p2.shape[0] - 1\n",
    "    if p1_deg < p2_deg:\n",
    "        p1, p2 = p2, p1.copy()\n",
    "        p1_deg, p2_deg = p2_deg, p1_deg\n",
    "    r_old = p1\n",
    "    r_new = p2\n",
    "    x_old = np.array([1])\n",
    "    x_new = np.array([0])\n",
    "    y_old = np.array([0])\n",
    "    y_new = np.array([1])\n",
    "    deg_new = p2_deg\n",
    "    while deg_new > max_deg:\n",
    "        q, r = polydivmod(r_old, r_new, pm)\n",
    "        r_old = r_new\n",
    "        r_new = r\n",
    "        deg_new = r_new.shape[0] - 1\n",
    "        x = polyadd(x_old, polyprod(q, x_new, pm))\n",
    "        x_old = x_new\n",
    "        x_new = x\n",
    "        y = polyadd(y_old, polyprod(q, y_new, pm))\n",
    "        y_old = y_new\n",
    "        y_new = y\n",
    "    r_new = normalize_poly(r_new)\n",
    "    x_new = normalize_poly(x_new)\n",
    "    y_new = normalize_poly(y_new)\n",
    "    return r_new, x_new, y_new"
   ]
  },
  {
   "cell_type": "code",
   "execution_count": 97,
   "metadata": {},
   "outputs": [
    {
     "data": {
      "text/plain": [
       "(array([1, 0, 1, 1]), array([2, 4, 6]))"
      ]
     },
     "execution_count": 97,
     "metadata": {},
     "output_type": "execute_result"
    }
   ],
   "source": [
    "pm = gen_pow_matrix(11)\n",
    "x = np.array([2])\n",
    "minpoly(x, pm)"
   ]
  },
  {
   "cell_type": "code",
   "execution_count": 98,
   "metadata": {},
   "outputs": [
    {
     "data": {
      "text/plain": [
       "array([ 0, 28,  1, 26, 13, 13, 21,  6, 27, 16, 30,  5, 20,  3, 14, 28, 30,\n",
       "       19,  2, 17,  2, 16, 27, 21, 13, 11, 15,  9, 30])"
      ]
     },
     "execution_count": 98,
     "metadata": {},
     "output_type": "execute_result"
    }
   ],
   "source": [
    "pm = gen_pow_matrix(59)\n",
    "p = np.arange(6)[::-1]\n",
    "x = np.array([0, 25, 1, 19, 27, 9, 13, 11, 31, 14, 2, 6, 4, 17, 5,\n",
    "                 10, 20, 30, 3, 15, 7, 28, 23, 22, 21, 16, 18, 12, 26])\n",
    "polyval(p, x, pm)"
   ]
  },
  {
   "cell_type": "code",
   "execution_count": 99,
   "metadata": {},
   "outputs": [
    {
     "data": {
      "text/plain": [
       "array([0])"
      ]
     },
     "execution_count": 99,
     "metadata": {},
     "output_type": "execute_result"
    }
   ],
   "source": [
    "pm = gen_pow_matrix(19)\n",
    "p1 = np.array([pm[5, 1], pm[-1, 1]])\n",
    "zero = np.array([0])\n",
    "polyprod(p1, zero, pm)"
   ]
  },
  {
   "cell_type": "code",
   "execution_count": 100,
   "metadata": {},
   "outputs": [
    {
     "data": {
      "text/plain": [
       "(array([2, 1]), array([0]))"
      ]
     },
     "execution_count": 100,
     "metadata": {},
     "output_type": "execute_result"
    }
   ],
   "source": [
    "div = polydivmod(np.array([0b10, 0b1]), np.array([0b1]), gen_pow_matrix(0b1011))\n",
    "div"
   ]
  },
  {
   "cell_type": "code",
   "execution_count": 101,
   "metadata": {},
   "outputs": [
    {
     "name": "stdout",
     "output_type": "stream",
     "text": [
      "(array([1, 0, 1, 0, 1, 1]), array([0]))\n"
     ]
    }
   ],
   "source": [
    "pm = gen_pow_matrix(19)\n",
    "x = np.zeros(16, dtype=np.int64)\n",
    "x[0] = 1\n",
    "x[-1] = 1\n",
    "y = np.array([1, 0, 1, 0, 0, 1, 1, 0, 1, 1, 1])\n",
    "print(polydivmod(x, y, pm))"
   ]
  },
  {
   "cell_type": "code",
   "execution_count": 103,
   "metadata": {},
   "outputs": [
    {
     "name": "stdout",
     "output_type": "stream",
     "text": [
      "1\n",
      "1\n"
     ]
    },
    {
     "data": {
      "text/plain": [
       "(array([20, 18, 20, 29]), array([0]), array([ 9, 17, 14,  6,  8, 15]))"
      ]
     },
     "execution_count": 103,
     "metadata": {},
     "output_type": "execute_result"
    }
   ],
   "source": [
    "pm = gen_pow_matrix(37)\n",
    "p1 = np.array([2, 14, 22, 23, 8, 17, 1, 11, 26, 3])\n",
    "p2 = np.array([31, 23, 29, 31, 11, 9])\n",
    "result = euclid(p1, p2, pm, max_deg=3)\n",
    "result"
   ]
  },
  {
   "cell_type": "code",
   "execution_count": 107,
   "metadata": {},
   "outputs": [
    {
     "data": {
      "text/plain": [
       "(array([20, 18, 20, 29]), array([14,  3]), array([ 9, 16, 15,  7,  9, 15]))"
      ]
     },
     "execution_count": 107,
     "metadata": {},
     "output_type": "execute_result"
    }
   ],
   "source": [
    "pm = gen_pow_matrix(37)\n",
    "p1 = np.array([2, 14, 22, 23, 8, 17, 1, 11, 26, 3])\n",
    "p2 = np.array([31, 23, 29, 31, 11, 9])\n",
    "result = euclid(p1, p2, pm, max_deg=3)\n",
    "result"
   ]
  },
  {
   "cell_type": "code",
   "execution_count": 108,
   "metadata": {},
   "outputs": [
    {
     "data": {
      "text/plain": [
       "array([20, 18, 20, 29])"
      ]
     },
     "execution_count": 108,
     "metadata": {},
     "output_type": "execute_result"
    }
   ],
   "source": [
    "polyadd(polyprod(p1, result[1], pm), polyprod(p2, result[2], pm))"
   ]
  },
  {
   "cell_type": "code",
   "execution_count": null,
   "metadata": {
    "collapsed": true
   },
   "outputs": [],
   "source": []
  }
 ],
 "metadata": {
  "kernelspec": {
   "display_name": "Python 3",
   "language": "python",
   "name": "python3"
  },
  "language_info": {
   "codemirror_mode": {
    "name": "ipython",
    "version": 3
   },
   "file_extension": ".py",
   "mimetype": "text/x-python",
   "name": "python",
   "nbconvert_exporter": "python",
   "pygments_lexer": "ipython3",
   "version": "3.6.3"
  }
 },
 "nbformat": 4,
 "nbformat_minor": 2
}
