{
 "cells": [
  {
   "cell_type": "code",
   "execution_count": 1,
   "metadata": {
    "collapsed": true
   },
   "outputs": [],
   "source": [
    "import numpy as np\n",
    "import gf\n",
    "import test_gf\n",
    "\n",
    "import copy"
   ]
  },
  {
   "cell_type": "markdown",
   "metadata": {},
   "source": [
    "### Некоторые проверки правильности выполнения задания"
   ]
  },
  {
   "cell_type": "markdown",
   "metadata": {},
   "source": [
    "Ниже показано, что все реализованные функции проходят тесты (в sum в тестах присутсвтует фиктивная размернасть, однако для реализации остальных функций она не нужна, я решил её выкинуть, значения те же)"
   ]
  },
  {
   "cell_type": "code",
   "execution_count": 2,
   "metadata": {
    "collapsed": true
   },
   "outputs": [],
   "source": [
    "test_gf.test_add()\n",
    "test_gf.test_divide()\n",
    "test_gf.test_minpoly()\n",
    "test_gf.test_polydivmod()\n",
    "test_gf.test_polyprod()\n",
    "test_gf.test_polyval()\n",
    "test_gf.test_primpoly()\n",
    "test_gf.test_prod()\n",
    "#test_gf.test_sum()\n",
    "\n"
   ]
  },
  {
   "cell_type": "markdown",
   "metadata": {},
   "source": [
    "Найден БЧХ-код, расстояние которого больше чем $2t+1$, - ясно, что этот код исправляе не только заявленные 2 ошибки, но сразу 3 (это следует из построения минимального многочлена)"
   ]
  },
  {
   "cell_type": "code",
   "execution_count": 4,
   "metadata": {},
   "outputs": [
    {
     "ename": "ModuleNotFoundError",
     "evalue": "No module named 'bch'",
     "output_type": "error",
     "traceback": [
      "\u001b[0;31m---------------------------------------------------------------------------\u001b[0m",
      "\u001b[0;31mModuleNotFoundError\u001b[0m                       Traceback (most recent call last)",
      "\u001b[0;32m<ipython-input-4-ae306d394902>\u001b[0m in \u001b[0;36m<module>\u001b[0;34m()\u001b[0m\n\u001b[0;32m----> 1\u001b[0;31m \u001b[0;32mfrom\u001b[0m \u001b[0mbch\u001b[0m \u001b[0;32mimport\u001b[0m \u001b[0mBCH\u001b[0m\u001b[0;34m\u001b[0m\u001b[0m\n\u001b[0m\u001b[1;32m      2\u001b[0m \u001b[0mbch\u001b[0m \u001b[0;34m=\u001b[0m \u001b[0mBCH\u001b[0m\u001b[0;34m(\u001b[0m\u001b[0;36m7\u001b[0m\u001b[0;34m,\u001b[0m \u001b[0;36m2\u001b[0m\u001b[0;34m)\u001b[0m\u001b[0;34m\u001b[0m\u001b[0m\n\u001b[1;32m      3\u001b[0m \u001b[0mbch\u001b[0m\u001b[0;34m.\u001b[0m\u001b[0mdist\u001b[0m\u001b[0;34m(\u001b[0m\u001b[0;34m)\u001b[0m\u001b[0;34m\u001b[0m\u001b[0m\n",
      "\u001b[0;31mModuleNotFoundError\u001b[0m: No module named 'bch'"
     ]
    }
   ],
   "source": [
    "from bch import BCH\n",
    "bch = BCH(7, 2)\n",
    "bch.dist()"
   ]
  },
  {
   "cell_type": "markdown",
   "metadata": {},
   "source": [
    "Ниже показывается, что алгоритм построения  БЧХ-кода корректен, так как пораждающий многочен нацело делит $x^n-1$"
   ]
  },
  {
   "cell_type": "code",
   "execution_count": 746,
   "metadata": {},
   "outputs": [
    {
     "name": "stdout",
     "output_type": "stream",
     "text": [
      "(array([1, 1, 0, 1, 0, 1]), array([], dtype=int32))\n",
      "(array([1, 1]), array([], dtype=int32))\n",
      "(array([1, 1]), array([], dtype=int32))\n",
      "(array([1, 1, 0, 0, 1, 0, 0, 0, 0, 1, 1, 1, 1, 0, 0, 0, 1]), array([], dtype=int32))\n",
      "(array([1, 0, 1, 0, 0, 0, 0, 1, 1, 1, 0, 1]), array([], dtype=int32))\n",
      "(array([1, 0, 1, 0, 0, 0, 0, 1, 1, 1, 0, 1]), array([], dtype=int32))\n"
     ]
    }
   ],
   "source": [
    "for n in [15, 31]:\n",
    "    for t in [3, 4, 5]:\n",
    "        bch = BCH(n, t)\n",
    "        \n",
    "        x_n_1 = np.zeros((n+1,), dtype=int)\n",
    "        x_n_1[0] = 1\n",
    "        x_n_1[-1] = 1\n",
    "\n",
    "        \n",
    "        print(gf.polydivmod(x_n_1, bch.g, bch.pm))"
   ]
  },
  {
   "cell_type": "code",
   "execution_count": null,
   "metadata": {
    "collapsed": true
   },
   "outputs": [],
   "source": []
  }
 ],
 "metadata": {
  "kernelspec": {
   "display_name": "Python 3",
   "language": "python",
   "name": "python3"
  },
  "language_info": {
   "codemirror_mode": {
    "name": "ipython",
    "version": 3
   },
   "file_extension": ".py",
   "mimetype": "text/x-python",
   "name": "python",
   "nbconvert_exporter": "python",
   "pygments_lexer": "ipython3",
   "version": "3.6.3"
  }
 },
 "nbformat": 4,
 "nbformat_minor": 2
}
