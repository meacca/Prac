{
 "cells": [
  {
   "cell_type": "code",
   "execution_count": 135,
   "metadata": {
    "collapsed": true
   },
   "outputs": [],
   "source": [
    "import numpy as np\n",
    "import gf\n",
    "import bch\n",
    "import test_gf\n",
    "import pandas as pd\n",
    "import time\n",
    "import matplotlib.pyplot as plt"
   ]
  },
  {
   "cell_type": "markdown",
   "metadata": {},
   "source": [
    "## Реализация модуля gf"
   ]
  },
  {
   "cell_type": "code",
   "execution_count": 2,
   "metadata": {},
   "outputs": [],
   "source": [
    "test_gf.test_primpoly()\n",
    "test_gf.test_add()\n",
    "test_gf.test_sum()\n",
    "test_gf.test_prod()\n",
    "test_gf.test_divide()\n",
    "test_gf.test_linsolve()\n",
    "test_gf.test_minpoly()\n",
    "test_gf.test_polyval()\n",
    "test_gf.test_polyprod()\n",
    "test_gf.test_polydivmod()\n",
    "test_gf.test_euclid()\n"
   ]
  },
  {
   "cell_type": "markdown",
   "metadata": {},
   "source": [
    "Модуль gf был протестирован с помощью предоставленного файла test_gf. Немного изменил тесты: в тесте функции sum, у правильных выводов зачем-то добавлена фиктивная размерность,  она была убрана. Также при тестировании алгоритма Евклида дан ответ в случае если максимальаня степень остатка 2, а не 3, а также многочлены не нормализованны (есть незначащие нули в начале).\n",
    "\n",
    "Как видно тестирование всех функций прошло успешно, и модуль gf работает корректно"
   ]
  },
  {
   "cell_type": "markdown",
   "metadata": {},
   "source": [
    "## Реализация модуля bch"
   ]
  },
  {
   "cell_type": "markdown",
   "metadata": {},
   "source": [
    "Реализованы все заялвенные процедуры: инициализация бчх-кода, кодирование, декодирование и вычиcление истинного минимального расстояния. В процесс инициализации были встроены проверки на то, что построенный порождающий многочлен является делителем многочлена $x^n - 1$ и то, что коэффиценты полинома равняются 0 или 1. При вычислении истинного расстояния делается проверка на то, что получившееся расстояние не меньше чем $2t + 1$. Таким образом, можно выполнить указанные проверки просто инициализировав код и посчитав расстояние (в случае ошибки будет AssertionError). Так и сделаем: "
   ]
  },
  {
   "cell_type": "code",
   "execution_count": 18,
   "metadata": {},
   "outputs": [
    {
     "data": {
      "text/plain": [
       "31"
      ]
     },
     "execution_count": 18,
     "metadata": {},
     "output_type": "execute_result"
    }
   ],
   "source": [
    "code = bch.BCH(15, 5)\n",
    "code.dist()\n",
    "code = bch.BCH(15, 7)\n",
    "code.dist()\n",
    "code = bch.BCH(31, 5)\n",
    "code.dist()\n",
    "code = bch.BCH(31, 10)\n",
    "code.dist()"
   ]
  },
  {
   "cell_type": "markdown",
   "metadata": {},
   "source": [
    "Как видно, все инициализации и вычисления расстояний выполняются без ошибок"
   ]
  },
  {
   "cell_type": "markdown",
   "metadata": {},
   "source": [
    "## БЧХ-код с расстоянием больше чем 2t + 1"
   ]
  },
  {
   "cell_type": "markdown",
   "metadata": {},
   "source": [
    "Есть множество кодов, у которых истинное расстояние больше чем величина $2t + 1$, приведем несколько примеров:"
   ]
  },
  {
   "cell_type": "code",
   "execution_count": 21,
   "metadata": {},
   "outputs": [
    {
     "name": "stdout",
     "output_type": "stream",
     "text": [
      "n = 15\n",
      "t = 4\n",
      "15\n"
     ]
    }
   ],
   "source": [
    "print ('n =', 15)\n",
    "print ('t =', 4)\n",
    "print(bch.BCH(15, 4).dist())"
   ]
  },
  {
   "cell_type": "code",
   "execution_count": 23,
   "metadata": {},
   "outputs": [
    {
     "name": "stdout",
     "output_type": "stream",
     "text": [
      "n = 15\n",
      "t = 5\n",
      "15\n"
     ]
    }
   ],
   "source": [
    "print ('n =', 15)\n",
    "print ('t =', 5)\n",
    "print(bch.BCH(15, 5).dist())"
   ]
  },
  {
   "cell_type": "code",
   "execution_count": 25,
   "metadata": {},
   "outputs": [
    {
     "name": "stdout",
     "output_type": "stream",
     "text": [
      "n = 31\n",
      "t = 6\n",
      "15\n"
     ]
    }
   ],
   "source": [
    "print ('n =', 31)\n",
    "print ('t =', 6)\n",
    "print(bch.BCH(31, 6).dist())"
   ]
  },
  {
   "cell_type": "markdown",
   "metadata": {},
   "source": [
    "## Статистические испытания"
   ]
  },
  {
   "cell_type": "code",
   "execution_count": 112,
   "metadata": {
    "collapsed": true
   },
   "outputs": [],
   "source": [
    "def check_answers(n, t, max_err):\n",
    "    code = bch.BCH(n, t)\n",
    "    num_mes = 500\n",
    "    length = n - code.g.shape[0] + 1\n",
    "    X = np.random.randint(2, size=(num_mes, length))\n",
    "    U = code.encode(X)\n",
    "    right = []\n",
    "    wrong = []\n",
    "    not_answer = []\n",
    "    for t in range(1, max_err + 1):\n",
    "        W = np.zeros_like(U, dtype=np.int64)\n",
    "        for i in range(W.shape[0]):\n",
    "            error = np.zeros(U.shape[1], dtype=np.int64)\n",
    "            index = np.random.choice(n, t, replace=False)\n",
    "            error[index] = 1\n",
    "            W[i] = U[i] ^ error\n",
    "        res = code.decode(W)\n",
    "        right_count = 0\n",
    "        wrong_count = 0\n",
    "        not_answer_count = 0\n",
    "        for i in range(W.shape[0]):\n",
    "            if np.isnan(res[i][0]):\n",
    "                not_answer_count += 1\n",
    "                continue\n",
    "            if (res[i] == U[i]).all():\n",
    "                right_count += 1\n",
    "            else:\n",
    "                wrong_count += 1\n",
    "        right.append(right_count)\n",
    "        wrong.append(wrong_count)\n",
    "        not_answer.append(not_answer_count)\n",
    "    return np.array(right), np.array(wrong), np.array(not_answer)"
   ]
  },
  {
   "cell_type": "markdown",
   "metadata": {},
   "source": [
    "Посмотрим как наш бчх-код декодирует при различных длине кода и максимальном количестве ошибок. Возьмем 500 слов и в каждом будем допускать сначала по 1 ошибке, потом по 2, и так до 15. И оценим долю правильно предсказанных слов, долю неправильных и долю тех, для который бчх-код отказался давать прогноз"
   ]
  },
  {
   "cell_type": "code",
   "execution_count": 113,
   "metadata": {
    "collapsed": true
   },
   "outputs": [],
   "source": [
    "right, wrong, not_answer = check_answers(15, 5, 15)"
   ]
  },
  {
   "cell_type": "code",
   "execution_count": 115,
   "metadata": {},
   "outputs": [
    {
     "name": "stdout",
     "output_type": "stream",
     "text": [
      "n = 15, t = 5\n"
     ]
    },
    {
     "data": {
      "text/html": [
       "<div>\n",
       "<style>\n",
       "    .dataframe thead tr:only-child th {\n",
       "        text-align: right;\n",
       "    }\n",
       "\n",
       "    .dataframe thead th {\n",
       "        text-align: left;\n",
       "    }\n",
       "\n",
       "    .dataframe tbody tr th {\n",
       "        vertical-align: top;\n",
       "    }\n",
       "</style>\n",
       "<table border=\"1\" class=\"dataframe\">\n",
       "  <thead>\n",
       "    <tr style=\"text-align: right;\">\n",
       "      <th></th>\n",
       "      <th>1</th>\n",
       "      <th>2</th>\n",
       "      <th>3</th>\n",
       "      <th>4</th>\n",
       "      <th>5</th>\n",
       "      <th>6</th>\n",
       "      <th>7</th>\n",
       "      <th>8</th>\n",
       "      <th>9</th>\n",
       "      <th>10</th>\n",
       "      <th>11</th>\n",
       "      <th>12</th>\n",
       "      <th>13</th>\n",
       "      <th>14</th>\n",
       "      <th>15</th>\n",
       "    </tr>\n",
       "  </thead>\n",
       "  <tbody>\n",
       "    <tr>\n",
       "      <th>Доля правильных</th>\n",
       "      <td>1.0</td>\n",
       "      <td>1.0</td>\n",
       "      <td>1.0</td>\n",
       "      <td>1.0</td>\n",
       "      <td>1.0</td>\n",
       "      <td>0.0</td>\n",
       "      <td>0.0</td>\n",
       "      <td>0.0</td>\n",
       "      <td>0.0</td>\n",
       "      <td>0.0</td>\n",
       "      <td>0.0</td>\n",
       "      <td>0.0</td>\n",
       "      <td>0.0</td>\n",
       "      <td>0.0</td>\n",
       "      <td>0.0</td>\n",
       "    </tr>\n",
       "    <tr>\n",
       "      <th>Доля неправильных</th>\n",
       "      <td>0.0</td>\n",
       "      <td>0.0</td>\n",
       "      <td>0.0</td>\n",
       "      <td>0.0</td>\n",
       "      <td>0.0</td>\n",
       "      <td>0.0</td>\n",
       "      <td>0.0</td>\n",
       "      <td>0.0</td>\n",
       "      <td>0.0</td>\n",
       "      <td>1.0</td>\n",
       "      <td>1.0</td>\n",
       "      <td>1.0</td>\n",
       "      <td>1.0</td>\n",
       "      <td>1.0</td>\n",
       "      <td>1.0</td>\n",
       "    </tr>\n",
       "    <tr>\n",
       "      <th>Доля непредсказанных</th>\n",
       "      <td>0.0</td>\n",
       "      <td>0.0</td>\n",
       "      <td>0.0</td>\n",
       "      <td>0.0</td>\n",
       "      <td>0.0</td>\n",
       "      <td>1.0</td>\n",
       "      <td>1.0</td>\n",
       "      <td>1.0</td>\n",
       "      <td>1.0</td>\n",
       "      <td>0.0</td>\n",
       "      <td>0.0</td>\n",
       "      <td>0.0</td>\n",
       "      <td>0.0</td>\n",
       "      <td>0.0</td>\n",
       "      <td>0.0</td>\n",
       "    </tr>\n",
       "  </tbody>\n",
       "</table>\n",
       "</div>"
      ],
      "text/plain": [
       "                       1    2    3    4    5    6    7    8    9    10   11  \\\n",
       "Доля правильных       1.0  1.0  1.0  1.0  1.0  0.0  0.0  0.0  0.0  0.0  0.0   \n",
       "Доля неправильных     0.0  0.0  0.0  0.0  0.0  0.0  0.0  0.0  0.0  1.0  1.0   \n",
       "Доля непредсказанных  0.0  0.0  0.0  0.0  0.0  1.0  1.0  1.0  1.0  0.0  0.0   \n",
       "\n",
       "                       12   13   14   15  \n",
       "Доля правильных       0.0  0.0  0.0  0.0  \n",
       "Доля неправильных     1.0  1.0  1.0  1.0  \n",
       "Доля непредсказанных  0.0  0.0  0.0  0.0  "
      ]
     },
     "execution_count": 115,
     "metadata": {},
     "output_type": "execute_result"
    }
   ],
   "source": [
    "print('n = 15, t = 5')\n",
    "pd.DataFrame([right/500, wrong/500, not_answer/500], columns=np.arange(1, 16),\n",
    "            index=['Доля правильных', 'Доля неправильных', 'Доля непредсказанных'])"
   ]
  },
  {
   "cell_type": "code",
   "execution_count": 116,
   "metadata": {
    "collapsed": true
   },
   "outputs": [],
   "source": [
    "right, wrong, not_answer = check_answers(31, 6, 15)"
   ]
  },
  {
   "cell_type": "code",
   "execution_count": 117,
   "metadata": {},
   "outputs": [
    {
     "name": "stdout",
     "output_type": "stream",
     "text": [
      "n = 31, t = 6\n"
     ]
    },
    {
     "data": {
      "text/html": [
       "<div>\n",
       "<style>\n",
       "    .dataframe thead tr:only-child th {\n",
       "        text-align: right;\n",
       "    }\n",
       "\n",
       "    .dataframe thead th {\n",
       "        text-align: left;\n",
       "    }\n",
       "\n",
       "    .dataframe tbody tr th {\n",
       "        vertical-align: top;\n",
       "    }\n",
       "</style>\n",
       "<table border=\"1\" class=\"dataframe\">\n",
       "  <thead>\n",
       "    <tr style=\"text-align: right;\">\n",
       "      <th></th>\n",
       "      <th>1</th>\n",
       "      <th>2</th>\n",
       "      <th>3</th>\n",
       "      <th>4</th>\n",
       "      <th>5</th>\n",
       "      <th>6</th>\n",
       "      <th>7</th>\n",
       "      <th>8</th>\n",
       "      <th>9</th>\n",
       "      <th>10</th>\n",
       "      <th>11</th>\n",
       "      <th>12</th>\n",
       "      <th>13</th>\n",
       "      <th>14</th>\n",
       "      <th>15</th>\n",
       "    </tr>\n",
       "  </thead>\n",
       "  <tbody>\n",
       "    <tr>\n",
       "      <th>Доля правильных</th>\n",
       "      <td>1.0</td>\n",
       "      <td>1.0</td>\n",
       "      <td>1.0</td>\n",
       "      <td>1.0</td>\n",
       "      <td>1.0</td>\n",
       "      <td>1.0</td>\n",
       "      <td>0.0</td>\n",
       "      <td>0.0</td>\n",
       "      <td>0.00</td>\n",
       "      <td>0.000</td>\n",
       "      <td>0.000</td>\n",
       "      <td>0.000</td>\n",
       "      <td>0.000</td>\n",
       "      <td>0.000</td>\n",
       "      <td>0.000</td>\n",
       "    </tr>\n",
       "    <tr>\n",
       "      <th>Доля неправильных</th>\n",
       "      <td>0.0</td>\n",
       "      <td>0.0</td>\n",
       "      <td>0.0</td>\n",
       "      <td>0.0</td>\n",
       "      <td>0.0</td>\n",
       "      <td>0.0</td>\n",
       "      <td>0.0</td>\n",
       "      <td>0.0</td>\n",
       "      <td>0.01</td>\n",
       "      <td>0.014</td>\n",
       "      <td>0.014</td>\n",
       "      <td>0.028</td>\n",
       "      <td>0.038</td>\n",
       "      <td>0.014</td>\n",
       "      <td>0.034</td>\n",
       "    </tr>\n",
       "    <tr>\n",
       "      <th>Доля непредсказанных</th>\n",
       "      <td>0.0</td>\n",
       "      <td>0.0</td>\n",
       "      <td>0.0</td>\n",
       "      <td>0.0</td>\n",
       "      <td>0.0</td>\n",
       "      <td>0.0</td>\n",
       "      <td>1.0</td>\n",
       "      <td>1.0</td>\n",
       "      <td>0.99</td>\n",
       "      <td>0.986</td>\n",
       "      <td>0.986</td>\n",
       "      <td>0.972</td>\n",
       "      <td>0.962</td>\n",
       "      <td>0.986</td>\n",
       "      <td>0.966</td>\n",
       "    </tr>\n",
       "  </tbody>\n",
       "</table>\n",
       "</div>"
      ],
      "text/plain": [
       "                       1    2    3    4    5    6    7    8     9      10  \\\n",
       "Доля правильных       1.0  1.0  1.0  1.0  1.0  1.0  0.0  0.0  0.00  0.000   \n",
       "Доля неправильных     0.0  0.0  0.0  0.0  0.0  0.0  0.0  0.0  0.01  0.014   \n",
       "Доля непредсказанных  0.0  0.0  0.0  0.0  0.0  0.0  1.0  1.0  0.99  0.986   \n",
       "\n",
       "                         11     12     13     14     15  \n",
       "Доля правильных       0.000  0.000  0.000  0.000  0.000  \n",
       "Доля неправильных     0.014  0.028  0.038  0.014  0.034  \n",
       "Доля непредсказанных  0.986  0.972  0.962  0.986  0.966  "
      ]
     },
     "execution_count": 117,
     "metadata": {},
     "output_type": "execute_result"
    }
   ],
   "source": [
    "print('n = 31, t = 6')\n",
    "pd.DataFrame([right/500, wrong/500, not_answer/500], columns=np.arange(1, 16),\n",
    "            index=['Доля правильных', 'Доля неправильных', 'Доля непредсказанных'])"
   ]
  },
  {
   "cell_type": "code",
   "execution_count": 118,
   "metadata": {
    "collapsed": true
   },
   "outputs": [],
   "source": [
    "right, wrong, not_answer = check_answers(31, 11, 15)"
   ]
  },
  {
   "cell_type": "code",
   "execution_count": 119,
   "metadata": {},
   "outputs": [
    {
     "name": "stdout",
     "output_type": "stream",
     "text": [
      "n = 31, t = 11\n"
     ]
    },
    {
     "data": {
      "text/html": [
       "<div>\n",
       "<style>\n",
       "    .dataframe thead tr:only-child th {\n",
       "        text-align: right;\n",
       "    }\n",
       "\n",
       "    .dataframe thead th {\n",
       "        text-align: left;\n",
       "    }\n",
       "\n",
       "    .dataframe tbody tr th {\n",
       "        vertical-align: top;\n",
       "    }\n",
       "</style>\n",
       "<table border=\"1\" class=\"dataframe\">\n",
       "  <thead>\n",
       "    <tr style=\"text-align: right;\">\n",
       "      <th></th>\n",
       "      <th>1</th>\n",
       "      <th>2</th>\n",
       "      <th>3</th>\n",
       "      <th>4</th>\n",
       "      <th>5</th>\n",
       "      <th>6</th>\n",
       "      <th>7</th>\n",
       "      <th>8</th>\n",
       "      <th>9</th>\n",
       "      <th>10</th>\n",
       "      <th>11</th>\n",
       "      <th>12</th>\n",
       "      <th>13</th>\n",
       "      <th>14</th>\n",
       "      <th>15</th>\n",
       "    </tr>\n",
       "  </thead>\n",
       "  <tbody>\n",
       "    <tr>\n",
       "      <th>Доля правильных</th>\n",
       "      <td>1.0</td>\n",
       "      <td>1.0</td>\n",
       "      <td>1.0</td>\n",
       "      <td>1.0</td>\n",
       "      <td>1.0</td>\n",
       "      <td>1.0</td>\n",
       "      <td>1.0</td>\n",
       "      <td>1.0</td>\n",
       "      <td>1.0</td>\n",
       "      <td>1.0</td>\n",
       "      <td>1.0</td>\n",
       "      <td>0.0</td>\n",
       "      <td>0.0</td>\n",
       "      <td>0.0</td>\n",
       "      <td>0.0</td>\n",
       "    </tr>\n",
       "    <tr>\n",
       "      <th>Доля неправильных</th>\n",
       "      <td>0.0</td>\n",
       "      <td>0.0</td>\n",
       "      <td>0.0</td>\n",
       "      <td>0.0</td>\n",
       "      <td>0.0</td>\n",
       "      <td>0.0</td>\n",
       "      <td>0.0</td>\n",
       "      <td>0.0</td>\n",
       "      <td>0.0</td>\n",
       "      <td>0.0</td>\n",
       "      <td>0.0</td>\n",
       "      <td>0.0</td>\n",
       "      <td>0.0</td>\n",
       "      <td>0.0</td>\n",
       "      <td>0.0</td>\n",
       "    </tr>\n",
       "    <tr>\n",
       "      <th>Доля непредсказанных</th>\n",
       "      <td>0.0</td>\n",
       "      <td>0.0</td>\n",
       "      <td>0.0</td>\n",
       "      <td>0.0</td>\n",
       "      <td>0.0</td>\n",
       "      <td>0.0</td>\n",
       "      <td>0.0</td>\n",
       "      <td>0.0</td>\n",
       "      <td>0.0</td>\n",
       "      <td>0.0</td>\n",
       "      <td>0.0</td>\n",
       "      <td>1.0</td>\n",
       "      <td>1.0</td>\n",
       "      <td>1.0</td>\n",
       "      <td>1.0</td>\n",
       "    </tr>\n",
       "  </tbody>\n",
       "</table>\n",
       "</div>"
      ],
      "text/plain": [
       "                       1    2    3    4    5    6    7    8    9    10   11  \\\n",
       "Доля правильных       1.0  1.0  1.0  1.0  1.0  1.0  1.0  1.0  1.0  1.0  1.0   \n",
       "Доля неправильных     0.0  0.0  0.0  0.0  0.0  0.0  0.0  0.0  0.0  0.0  0.0   \n",
       "Доля непредсказанных  0.0  0.0  0.0  0.0  0.0  0.0  0.0  0.0  0.0  0.0  0.0   \n",
       "\n",
       "                       12   13   14   15  \n",
       "Доля правильных       0.0  0.0  0.0  0.0  \n",
       "Доля неправильных     0.0  0.0  0.0  0.0  \n",
       "Доля непредсказанных  1.0  1.0  1.0  1.0  "
      ]
     },
     "execution_count": 119,
     "metadata": {},
     "output_type": "execute_result"
    }
   ],
   "source": [
    "print('n = 31, t = 11')\n",
    "pd.DataFrame([right/500, wrong/500, not_answer/500], columns=np.arange(1, 16),\n",
    "            index=['Доля правильных', 'Доля неправильных', 'Доля непредсказанных'])"
   ]
  },
  {
   "cell_type": "code",
   "execution_count": 121,
   "metadata": {},
   "outputs": [],
   "source": [
    "right, wrong, not_answer = check_answers(63, 10, 20)"
   ]
  },
  {
   "cell_type": "code",
   "execution_count": 123,
   "metadata": {},
   "outputs": [
    {
     "name": "stdout",
     "output_type": "stream",
     "text": [
      "n = 63, t = 10\n"
     ]
    },
    {
     "data": {
      "text/html": [
       "<div>\n",
       "<style>\n",
       "    .dataframe thead tr:only-child th {\n",
       "        text-align: right;\n",
       "    }\n",
       "\n",
       "    .dataframe thead th {\n",
       "        text-align: left;\n",
       "    }\n",
       "\n",
       "    .dataframe tbody tr th {\n",
       "        vertical-align: top;\n",
       "    }\n",
       "</style>\n",
       "<table border=\"1\" class=\"dataframe\">\n",
       "  <thead>\n",
       "    <tr style=\"text-align: right;\">\n",
       "      <th></th>\n",
       "      <th>1</th>\n",
       "      <th>2</th>\n",
       "      <th>3</th>\n",
       "      <th>4</th>\n",
       "      <th>5</th>\n",
       "      <th>6</th>\n",
       "      <th>7</th>\n",
       "      <th>8</th>\n",
       "      <th>9</th>\n",
       "      <th>10</th>\n",
       "      <th>11</th>\n",
       "      <th>12</th>\n",
       "      <th>13</th>\n",
       "      <th>14</th>\n",
       "      <th>15</th>\n",
       "      <th>16</th>\n",
       "      <th>17</th>\n",
       "      <th>18</th>\n",
       "      <th>19</th>\n",
       "      <th>20</th>\n",
       "    </tr>\n",
       "  </thead>\n",
       "  <tbody>\n",
       "    <tr>\n",
       "      <th>Доля правильных</th>\n",
       "      <td>1.0</td>\n",
       "      <td>1.0</td>\n",
       "      <td>1.0</td>\n",
       "      <td>1.0</td>\n",
       "      <td>1.0</td>\n",
       "      <td>1.0</td>\n",
       "      <td>1.0</td>\n",
       "      <td>1.0</td>\n",
       "      <td>1.0</td>\n",
       "      <td>1.0</td>\n",
       "      <td>0.000</td>\n",
       "      <td>0.0</td>\n",
       "      <td>0.000</td>\n",
       "      <td>0.0</td>\n",
       "      <td>0.000</td>\n",
       "      <td>0.0</td>\n",
       "      <td>0.000</td>\n",
       "      <td>0.000</td>\n",
       "      <td>0.000</td>\n",
       "      <td>0.000</td>\n",
       "    </tr>\n",
       "    <tr>\n",
       "      <th>Доля неправильных</th>\n",
       "      <td>0.0</td>\n",
       "      <td>0.0</td>\n",
       "      <td>0.0</td>\n",
       "      <td>0.0</td>\n",
       "      <td>0.0</td>\n",
       "      <td>0.0</td>\n",
       "      <td>0.0</td>\n",
       "      <td>0.0</td>\n",
       "      <td>0.0</td>\n",
       "      <td>0.0</td>\n",
       "      <td>0.002</td>\n",
       "      <td>0.0</td>\n",
       "      <td>0.008</td>\n",
       "      <td>0.0</td>\n",
       "      <td>0.002</td>\n",
       "      <td>0.0</td>\n",
       "      <td>0.004</td>\n",
       "      <td>0.008</td>\n",
       "      <td>0.006</td>\n",
       "      <td>0.004</td>\n",
       "    </tr>\n",
       "    <tr>\n",
       "      <th>Доля непредсказанных</th>\n",
       "      <td>0.0</td>\n",
       "      <td>0.0</td>\n",
       "      <td>0.0</td>\n",
       "      <td>0.0</td>\n",
       "      <td>0.0</td>\n",
       "      <td>0.0</td>\n",
       "      <td>0.0</td>\n",
       "      <td>0.0</td>\n",
       "      <td>0.0</td>\n",
       "      <td>0.0</td>\n",
       "      <td>0.998</td>\n",
       "      <td>1.0</td>\n",
       "      <td>0.992</td>\n",
       "      <td>1.0</td>\n",
       "      <td>0.998</td>\n",
       "      <td>1.0</td>\n",
       "      <td>0.996</td>\n",
       "      <td>0.992</td>\n",
       "      <td>0.994</td>\n",
       "      <td>0.996</td>\n",
       "    </tr>\n",
       "  </tbody>\n",
       "</table>\n",
       "</div>"
      ],
      "text/plain": [
       "                       1    2    3    4    5    6    7    8    9    10     11  \\\n",
       "Доля правильных       1.0  1.0  1.0  1.0  1.0  1.0  1.0  1.0  1.0  1.0  0.000   \n",
       "Доля неправильных     0.0  0.0  0.0  0.0  0.0  0.0  0.0  0.0  0.0  0.0  0.002   \n",
       "Доля непредсказанных  0.0  0.0  0.0  0.0  0.0  0.0  0.0  0.0  0.0  0.0  0.998   \n",
       "\n",
       "                       12     13   14     15   16     17     18     19     20  \n",
       "Доля правильных       0.0  0.000  0.0  0.000  0.0  0.000  0.000  0.000  0.000  \n",
       "Доля неправильных     0.0  0.008  0.0  0.002  0.0  0.004  0.008  0.006  0.004  \n",
       "Доля непредсказанных  1.0  0.992  1.0  0.998  1.0  0.996  0.992  0.994  0.996  "
      ]
     },
     "execution_count": 123,
     "metadata": {},
     "output_type": "execute_result"
    }
   ],
   "source": [
    "print('n = 63, t = 10')\n",
    "pd.DataFrame([right/500, wrong/500, not_answer/500], columns=np.arange(1, 21),\n",
    "            index=['Доля правильных', 'Доля неправильных', 'Доля непредсказанных'])"
   ]
  },
  {
   "cell_type": "markdown",
   "metadata": {},
   "source": [
    "Как видно, БЧХ-код успешно декодирует сообщения с числом ошибок <= t, но с большим числом ошибок, код не делает ни одного правильного предсказания: предсказание неверно, либо отказываетс предсказывать. В наших экспериментах при числе ошибок больше t, наш декодер чаще отказываться предсказывать, чем дает неправильный прогноз"
   ]
  },
  {
   "cell_type": "markdown",
   "metadata": {},
   "source": [
    "## Сравнение методов декодирования Euclid и PGZ по времени работы"
   ]
  },
  {
   "cell_type": "code",
   "execution_count": 127,
   "metadata": {
    "collapsed": true
   },
   "outputs": [],
   "source": [
    "def check_time(n, t):\n",
    "    code = bch.BCH(n, t)\n",
    "    num_mes = 50\n",
    "    length = n - code.g.shape[0] + 1\n",
    "    X = np.random.randint(2, size=(num_mes, length))\n",
    "    U = code.encode(X)\n",
    "    W = np.zeros_like(U, dtype=np.int64)\n",
    "    for i in range(W.shape[0]):\n",
    "        error = np.zeros(U.shape[1], dtype=np.int64)\n",
    "        index = np.random.choice(n, t, replace=False)\n",
    "        error[index] = 1\n",
    "        W[i] = U[i] ^ error\n",
    "    time_dec = []\n",
    "    time_start = time.time()\n",
    "    res = code.decode(W)\n",
    "    time_dec.append(time.time() - time_start)\n",
    "    time_start = time.time()\n",
    "    res = code.decode(W, method='pgz')\n",
    "    time_dec.append(time.time() - time_start)\n",
    "    return time_dec"
   ]
  },
  {
   "cell_type": "markdown",
   "metadata": {},
   "source": [
    "Посчитаем время работы двух различных декодера при декодировке при различных длинах кода и максимальном числе ошибок t. Всего декодируется 50 сообщений, в каждом из которых допущено ровно t ошибок "
   ]
  },
  {
   "cell_type": "code",
   "execution_count": 132,
   "metadata": {},
   "outputs": [],
   "source": [
    "time_euclid = []\n",
    "time_pgz = []\n",
    "n_list = [15, 31, 63, 127, 255, 511]\n",
    "t_list = [3, 5, 9, 11, 17, 23]\n",
    "for i in range(len(n_list)):\n",
    "    euc, pgz = check_time(n_list[i], t_list[i])\n",
    "    time_euclid.append(euc)\n",
    "    time_pgz.append(pgz)"
   ]
  },
  {
   "cell_type": "code",
   "execution_count": 177,
   "metadata": {},
   "outputs": [
    {
     "data": {
      "image/png": "[encoded data removed]",
      "text/plain": [
       "<matplotlib.figure.Figure at 0x7f6953eb84a8>"
      ]
     },
     "metadata": {},
     "output_type": "display_data"
    }
   ],
   "source": [
    "fig, ax = plt.subplots()\n",
    "fig.set_figwidth(12)\n",
    "fig.set_figheight(6)\n",
    "plt.bar(np.arange(6)-0.2, time_euclid, width=0.4)\n",
    "plt.bar(np.arange(6)+0.2, time_pgz, width=0.4)\n",
    "plt.title('Время работы различных декодеров', fontsize=15)\n",
    "plt.ylabel('Время (с)', fontsize=13)\n",
    "signatures = ['n = 15, t = 3', 'n = 31, t = 5', 'n = 63, t = 9',\n",
    "             'n = 127, t = 11', 'n = 255, t = 17', 'n = 511, t = 23']\n",
    "plt.xticks(np.arange(6), signatures)\n",
    "plt.legend(['euclid', 'pgz'], loc=2, fontsize='x-large')\n",
    "plt.show()"
   ]
  },
  {
   "cell_type": "markdown",
   "metadata": {},
   "source": [
    "Как видно, pgz decoder в целом где-то в полтора раза быстрее декодера, основанного на расширенном алгоритме Евклида"
   ]
  }
 ],
 "metadata": {
  "kernelspec": {
   "display_name": "Python 3",
   "language": "python",
   "name": "python3"
  },
  "language_info": {
   "codemirror_mode": {
    "name": "ipython",
    "version": 3
   },
   "file_extension": ".py",
   "mimetype": "text/x-python",
   "name": "python",
   "nbconvert_exporter": "python",
   "pygments_lexer": "ipython3",
   "version": "3.6.3"
  }
 },
 "nbformat": 4,
 "nbformat_minor": 2
}
