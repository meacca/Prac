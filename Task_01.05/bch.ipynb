{
 "cells": [
  {
   "cell_type": "code",
   "execution_count": 18,
   "metadata": {},
   "outputs": [],
   "source": [
    "import numpy as np\n",
    "import gf\n",
    "\n",
    "\n",
    "class BCH:\n",
    "    primpolies = [0, 0, 7, 11, 19, 37, 67, 131, 285, 529, 1033, 2053, 4179,\n",
    "                  8219, 16427, 32813, 78045]\n",
    "    def __init__(self, n, t):\n",
    "        assert t <= int((n - 1) / 2)\n",
    "        q = int(np.log2(n + 1))\n",
    "        assert (q >= 2) and (q <= 16)\n",
    "        assert 2 ** q - 1 == n\n",
    "        self.pm = gf.gen_pow_matrix(self.primpolies[q])\n",
    "        self.R = self.pm[:2 * t, 1]\n",
    "        self.g, _ = gf.minpoly(self.R, self.pm)\n",
    "        check_poly = np.zeros(n + 1, dtype=np.int64)\n",
    "        check_poly[0] = 1\n",
    "        check_poly[-1] = 1\n",
    "        assert gf.polydivmod(check_poly, self.g, self.pm)[1] == 0\n",
    "        mask = (self.g == 0) | (self.g == 1)\n",
    "        assert mask.all()\n",
    "        \n",
    "    def encode(self, U):\n",
    "        n = self.pm.shape[0]\n",
    "        m = self.g.shape[0] - 1\n",
    "        assert n - m == pm.shape[0]\n",
    "        x = np.zeros(m + 1, dtype=np.int64)\n",
    "        x[0] = 1\n",
    "        res = np.zeros((U.shape[0], U.shape[1] + m), dtype=np.int64)\n",
    "        for i in range(U.shape[0]):\n",
    "            u = U[i]\n",
    "            code = gf.polyprod(x, u, self.pm)\n",
    "            _, mod = gf.polydivmod(code, self.g, self.pm)\n",
    "            code = gf.polyadd(code, mod)\n",
    "            len_code = code.shape[0]\n",
    "            res[i][-len_code:] = code\n",
    "        return res\n",
    "    \n",
    "    def decode(self, W, method='euclid'):\n",
    "        assert method == 'euclid' or method == 'pgz'\n",
    "        t = self.R.shape[0] // 2\n",
    "        n = W.shape[1]\n",
    "        is_nan = False\n",
    "        assert n == self.pm.shape[0]\n",
    "        res = np.zeros_like(W, dtype=object)\n",
    "        for i in range(W.shape[0]):\n",
    "            w = W[i]\n",
    "            s = gf.polyval(w, self.R, self.pm)\n",
    "            if (s == 0).all():\n",
    "                res[i] = w\n",
    "                continue\n",
    "            if method == 'euclid':\n",
    "                s = s[::-1]\n",
    "                z = np.zeros(2*t + 2, dtype=np.int64)\n",
    "                z[0] = 1\n",
    "                s = np.concatenate((s, np.array([1])))\n",
    "                r, a, lam = gf.euclid(z, s, self.pm, max_deg=t)\n",
    "            else:\n",
    "                lam = np.nan\n",
    "                for errors in range(t, 0, -1):\n",
    "                    A = [[s[k] for k in range(j, j + errors)] for j in range(errors)]\n",
    "                    A = np.array(A)\n",
    "                    b = [s[k] for k in range(errors, errors * 2)]\n",
    "                    b = np.array(b) #!!!!!!!!!!\n",
    "                    lam = gf.linsolve(A, b, self.pm)\n",
    "                    if lam is not np.nan:\n",
    "                        break\n",
    "                if lam is np.nan:\n",
    "                    res[i] = np.nan\n",
    "                    is_nan = True\n",
    "                    continue\n",
    "                lam = np.concatenate((lam, np.array([1])))    \n",
    "            values = gf.polyval(lam, self.pm[:, 1], self.pm)\n",
    "            num_roots = 0\n",
    "            #res[i] = w\n",
    "            for j in range(values.shape[0]):\n",
    "                if values[j] == 0:\n",
    "                    root = self.pm[j, 1]\n",
    "                    alpha = gf.divide(1, root, self.pm)\n",
    "                    index = self.pm[alpha - 1, 0]\n",
    "                    w[n - index - 1] = 1 - w[n - index - 1]\n",
    "                    num_roots += 1\n",
    "            if num_roots != lam.shape[0] - 1:\n",
    "                res[i] = np.nan\n",
    "                is_nan = True\n",
    "                continue\n",
    "            res[i] = w\n",
    "        if  not is_nan:\n",
    "            res = res.astype(np.int64)\n",
    "        return res\n",
    "    \n",
    "    def dist(self):\n",
    "        n = self.pm.shape[0]\n",
    "        m = self.g.shape[0] - 1\n",
    "        k = n - m\n",
    "        res = n\n",
    "        for i in range(1, 2 ** k):\n",
    "            word = np.array([int(j) for j in bin(i)[2:]])\n",
    "            code = self.encode(np.array(word)[np.newaxis, :]).ravel()\n",
    "            res = min(res, np.count_nonzero(code))\n",
    "        t = self.R.shape[0] // 2\n",
    "        assert res >= (2*t + 1)\n",
    "        return res    \n",
    "        "
   ]
  },
  {
   "cell_type": "code",
   "execution_count": 13,
   "metadata": {},
   "outputs": [
    {
     "data": {
      "text/plain": [
       "array([1, 1, 0, 0, 1, 1, 0, 1, 1, 0, 0, 1, 0, 0, 1, 1, 0, 0, 0, 0, 1, 0,\n",
       "       1, 1, 1, 1, 0, 1, 1, 1, 0, 1, 0, 0, 1, 1, 1, 0, 1, 1, 0, 0, 1, 0,\n",
       "       1, 0, 1, 1])"
      ]
     },
     "execution_count": 13,
     "metadata": {},
     "output_type": "execute_result"
    }
   ],
   "source": [
    "bch = BCH(63, 11)\n",
    "bch.g"
   ]
  },
  {
   "cell_type": "code",
   "execution_count": 6,
   "metadata": {},
   "outputs": [
    {
     "name": "stdout",
     "output_type": "stream",
     "text": [
      "(array([1, 1, 0, 1, 0, 1]), array([], dtype=int64))\n"
     ]
    }
   ],
   "source": [
    "pm = gf.gen_pow_matrix(19)\n",
    "x = np.zeros(16, dtype=np.int64)\n",
    "x[0] = 1\n",
    "x[-1] = 1\n",
    "y = [1, 0, 1, 0, 0, 1, 1, 0, 1, 1, 1]\n",
    "print(gosha_gf.polydivmod(x, y, pm))"
   ]
  },
  {
   "cell_type": "code",
   "execution_count": 51,
   "metadata": {},
   "outputs": [
    {
     "data": {
      "text/plain": [
       "array([[1, 1, 1, 1, 1, 1],\n",
       "       [nan, nan, nan, nan, nan, nan],\n",
       "       [1, 1, 1, 1, 1, 1],\n",
       "       [1, 1, 1, 1, 1, 1],\n",
       "       [1, 1, 1, 1, 1, 1],\n",
       "       [1, 1, 1, 1, 1, 1],\n",
       "       [1, 1, 1, 1, 1, 1]], dtype=object)"
      ]
     },
     "execution_count": 51,
     "metadata": {},
     "output_type": "execute_result"
    }
   ],
   "source": [
    "a = np.ones((7, 6), dtype=object)\n",
    "a[1] = np.nan\n",
    "a"
   ]
  },
  {
   "cell_type": "code",
   "execution_count": 20,
   "metadata": {
    "collapsed": true
   },
   "outputs": [],
   "source": [
    "b = np.ones(6) * np.nan\n",
    "c = np.vstack((a, b))"
   ]
  },
  {
   "cell_type": "code",
   "execution_count": 24,
   "metadata": {},
   "outputs": [
    {
     "ename": "TypeError",
     "evalue": "float() argument must be a string or a number, not 'map'",
     "output_type": "error",
     "traceback": [
      "\u001b[0;31m---------------------------------------------------------------------------\u001b[0m",
      "\u001b[0;31mTypeError\u001b[0m                                 Traceback (most recent call last)",
      "\u001b[0;32m<ipython-input-24-098aa71b2f81>\u001b[0m in \u001b[0;36m<module>\u001b[0;34m()\u001b[0m\n\u001b[0;32m----> 1\u001b[0;31m \u001b[0mc\u001b[0m\u001b[0;34m[\u001b[0m\u001b[0;36m1\u001b[0m\u001b[0;34m]\u001b[0m \u001b[0;34m=\u001b[0m \u001b[0mmap\u001b[0m\u001b[0;34m(\u001b[0m\u001b[0mint\u001b[0m\u001b[0;34m,\u001b[0m \u001b[0ma\u001b[0m\u001b[0;34m[\u001b[0m\u001b[0;36m1\u001b[0m\u001b[0;34m]\u001b[0m\u001b[0;34m)\u001b[0m\u001b[0;34m\u001b[0m\u001b[0m\n\u001b[0m",
      "\u001b[0;31mTypeError\u001b[0m: float() argument must be a string or a number, not 'map'"
     ]
    }
   ],
   "source": [
    "c[1] = map(int, a[1])"
   ]
  },
  {
   "cell_type": "code",
   "execution_count": 32,
   "metadata": {},
   "outputs": [
    {
     "data": {
      "text/plain": [
       "numpy.float64"
      ]
     },
     "execution_count": 32,
     "metadata": {},
     "output_type": "execute_result"
    }
   ],
   "source": [
    "type(c[7, 0])"
   ]
  },
  {
   "cell_type": "code",
   "execution_count": 34,
   "metadata": {},
   "outputs": [
    {
     "data": {
      "text/plain": [
       "(6,)"
      ]
     },
     "execution_count": 34,
     "metadata": {},
     "output_type": "execute_result"
    }
   ],
   "source": [
    "c[1].shape"
   ]
  },
  {
   "cell_type": "code",
   "execution_count": 45,
   "metadata": {},
   "outputs": [
    {
     "data": {
      "text/plain": [
       "array([1, 2, 3, 1])"
      ]
     },
     "execution_count": 45,
     "metadata": {},
     "output_type": "execute_result"
    }
   ],
   "source": [
    "kek = np.array([1, 2, 3])\n",
    "lol = np.array([4, 5])\n",
    "np.concatenate((kek, np.array([1])))"
   ]
  },
  {
   "cell_type": "code",
   "execution_count": 47,
   "metadata": {},
   "outputs": [
    {
     "name": "stdout",
     "output_type": "stream",
     "text": [
      "kek\n"
     ]
    }
   ],
   "source": [
    "if np.nan:\n",
    "    print('kek')"
   ]
  },
  {
   "cell_type": "code",
   "execution_count": 49,
   "metadata": {},
   "outputs": [
    {
     "data": {
      "text/plain": [
       "True"
      ]
     },
     "execution_count": 49,
     "metadata": {},
     "output_type": "execute_result"
    }
   ],
   "source": [
    "np.nan is np.nan"
   ]
  },
  {
   "cell_type": "code",
   "execution_count": 6,
   "metadata": {},
   "outputs": [
    {
     "data": {
      "text/plain": [
       "(1, 3)"
      ]
     },
     "execution_count": 6,
     "metadata": {},
     "output_type": "execute_result"
    }
   ],
   "source": [
    "a = np.array([1, 2, 7])\n",
    "a[np.newaxis, :].shape"
   ]
  },
  {
   "cell_type": "code",
   "execution_count": 7,
   "metadata": {
    "collapsed": true
   },
   "outputs": [],
   "source": [
    "a = np.array([[1, 7, 6], [1, 2, 3], [4, 5, 8]], dtype=object)"
   ]
  },
  {
   "cell_type": "code",
   "execution_count": 8,
   "metadata": {},
   "outputs": [
    {
     "data": {
      "text/plain": [
       "array([[1, 7, 6],\n",
       "       [1, 2, 3],\n",
       "       [4, 5, 8]], dtype=object)"
      ]
     },
     "execution_count": 8,
     "metadata": {},
     "output_type": "execute_result"
    }
   ],
   "source": [
    "a"
   ]
  },
  {
   "cell_type": "code",
   "execution_count": null,
   "metadata": {
    "collapsed": true
   },
   "outputs": [],
   "source": []
  },
  {
   "cell_type": "code",
   "execution_count": 9,
   "metadata": {},
   "outputs": [
    {
     "data": {
      "text/plain": [
       "array([[1, 7, 6],\n",
       "       [1, 2, 3],\n",
       "       [4, 5, 8]])"
      ]
     },
     "execution_count": 9,
     "metadata": {},
     "output_type": "execute_result"
    }
   ],
   "source": [
    "a.astype(np.int64)"
   ]
  },
  {
   "cell_type": "code",
   "execution_count": 10,
   "metadata": {},
   "outputs": [
    {
     "data": {
      "text/plain": [
       "array([[1, 7, 6],\n",
       "       [1, 2, 3],\n",
       "       [4, 5, 8]], dtype=object)"
      ]
     },
     "execution_count": 10,
     "metadata": {},
     "output_type": "execute_result"
    }
   ],
   "source": [
    "a"
   ]
  },
  {
   "cell_type": "code",
   "execution_count": null,
   "metadata": {
    "collapsed": true
   },
   "outputs": [],
   "source": []
  },
  {
   "cell_type": "code",
   "execution_count": 15,
   "metadata": {},
   "outputs": [],
   "source": [
    "a = np.array([1])"
   ]
  },
  {
   "cell_type": "code",
   "execution_count": 17,
   "metadata": {},
   "outputs": [
    {
     "data": {
      "text/plain": [
       "numpy.int64"
      ]
     },
     "execution_count": 17,
     "metadata": {},
     "output_type": "execute_result"
    }
   ],
   "source": [
    "type(a[0])"
   ]
  },
  {
   "cell_type": "code",
   "execution_count": null,
   "metadata": {
    "collapsed": true
   },
   "outputs": [],
   "source": []
  }
 ],
 "metadata": {
  "kernelspec": {
   "display_name": "Python 3",
   "language": "python",
   "name": "python3"
  },
  "language_info": {
   "codemirror_mode": {
    "name": "ipython",
    "version": 3
   },
   "file_extension": ".py",
   "mimetype": "text/x-python",
   "name": "python",
   "nbconvert_exporter": "python",
   "pygments_lexer": "ipython3",
   "version": "3.6.3"
  }
 },
 "nbformat": 4,
 "nbformat_minor": 2
}
